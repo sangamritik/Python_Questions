{
  "nbformat": 4,
  "nbformat_minor": 0,
  "metadata": {
    "colab": {
      "provenance": []
    },
    "kernelspec": {
      "name": "python3",
      "display_name": "Python 3"
    },
    "language_info": {
      "name": "python"
    }
  },
  "cells": [
    {
      "cell_type": "code",
      "source": [
        "# Anti - LLM\n",
        "a = '1'\n",
        "b = '2'\n",
        "b = '3'\n",
        "c = '4'\n",
        "\n",
        "print(a+b+c)\n",
        "\n",
        "# A) '143'\n",
        "# B) '1234'\n",
        "# c) '134'\n",
        "# D) '123'\n",
        "\n",
        "#what is the output of a + b + c?"
      ],
      "metadata": {
        "colab": {
          "base_uri": "https://localhost:8080/"
        },
        "id": "2Y5hrei7BwAg",
        "outputId": "ec53d057-92be-4654-a5cf-164a056e3745"
      },
      "execution_count": 11,
      "outputs": [
        {
          "output_type": "stream",
          "name": "stdout",
          "text": [
            "134\n"
          ]
        }
      ]
    },
    {
      "cell_type": "code",
      "source": [
        "# Question 2: What is the output of the following Python code?\n",
        "\n",
        "d = {'a': 1, 'b': 2, 'c': 3}\n",
        "print(list(d.keys())[1])\n",
        "\n",
        "# A) 'a' B) 'b' C) 'c' D) Error\n",
        "\n",
        "# Answer: B) 'b'"
      ],
      "metadata": {
        "colab": {
          "base_uri": "https://localhost:8080/"
        },
        "id": "G2w19AOO8hKN",
        "outputId": "9eb91a64-edf1-4b32-ea16-d7bf7f4547f3"
      },
      "execution_count": 5,
      "outputs": [
        {
          "output_type": "stream",
          "name": "stdout",
          "text": [
            "b\n"
          ]
        }
      ]
    },
    {
      "cell_type": "code",
      "source": [
        "# Question 3: What is the difference between is and == operators in Python?\n",
        "\n",
        "# A) is checks for identity, == checks for equality B) is checks for equality, == checks for identity C) is is used for strings, == is used for numbers D) is is used for numbers, == is used for strings\n",
        "\n",
        "# Answer: A) is checks for identity, == checks for equality"
      ],
      "metadata": {
        "id": "9KT1CQtn8tLs"
      },
      "execution_count": 6,
      "outputs": []
    },
    {
      "cell_type": "code",
      "source": [
        "def foo(x):\n",
        "    return x + 1 if x % 2 == 0 else x - 1\n",
        "\n",
        "result = foo(3) + foo(4) + foo(5)\n",
        "print(result)\n",
        "\n",
        "# A) 7\n",
        "# B) 12\n",
        "# C) 11\n",
        "# D) 8"
      ],
      "metadata": {
        "colab": {
          "base_uri": "https://localhost:8080/"
        },
        "id": "Om-DBtT79NpA",
        "outputId": "1bde5a8b-2c3c-463c-de59-e87a51d5f3f0"
      },
      "execution_count": 10,
      "outputs": [
        {
          "output_type": "stream",
          "name": "stdout",
          "text": [
            "11\n"
          ]
        }
      ]
    },
    {
      "cell_type": "code",
      "source": [
        "def baz(x):\n",
        "    if x <= 0:\n",
        "        return 1\n",
        "    else:\n",
        "        return baz(x - 1) * x\n",
        "\n",
        "result = baz(4)\n",
        "print(result)\n",
        "# What is the output of the code?\n",
        "\n",
        "# A) 4 B) 6 C) 24 D) 120"
      ],
      "metadata": {
        "colab": {
          "base_uri": "https://localhost:8080/"
        },
        "id": "XoK0y_whAdTZ",
        "outputId": "8a2c18cb-421a-4ed9-b071-5bf9c90f49d0"
      },
      "execution_count": 12,
      "outputs": [
        {
          "output_type": "stream",
          "name": "stdout",
          "text": [
            "24\n"
          ]
        }
      ]
    },
    {
      "cell_type": "code",
      "source": [
        "def foo(x):\n",
        "    return x + len(str(x))\n",
        "\n",
        "result = foo(123) + foo(456)\n",
        "print(result)\n",
        "\n",
        "# What is the output of the code?\n",
        "\n",
        "# A) 579 B) 582 C) 585 D) 588"
      ],
      "metadata": {
        "colab": {
          "base_uri": "https://localhost:8080/"
        },
        "id": "VDEz-eIpCVUI",
        "outputId": "1773f884-7f24-49ea-a747-fab72f0174b6"
      },
      "execution_count": 14,
      "outputs": [
        {
          "output_type": "stream",
          "name": "stdout",
          "text": [
            "585\n"
          ]
        }
      ]
    },
    {
      "cell_type": "code",
      "source": [
        "class A:\n",
        "    def __init__(self, x):\n",
        "        self.x = x\n",
        "\n",
        "    def __getattr__(self, name):\n",
        "        return getattr(self.x, name)\n",
        "\n",
        "a = A([1, 2, 3])\n",
        "print(a.pop())\n",
        "\n",
        "# What is the output of the code?\n",
        "\n",
        "# A) 1 B) 2 C) 3 D) Error\n",
        "\n",
        "# Answer: A) 1"
      ],
      "metadata": {
        "colab": {
          "base_uri": "https://localhost:8080/"
        },
        "id": "j-sTvOhADGXT",
        "outputId": "0b36ffe7-69d5-48df-f6cf-2a6add011460"
      },
      "execution_count": 15,
      "outputs": [
        {
          "output_type": "stream",
          "name": "stdout",
          "text": [
            "3\n"
          ]
        }
      ]
    },
    {
      "cell_type": "code",
      "source": [
        "s = \"abcdefg\"\n",
        "print(s[1:6:2])\n",
        "# What is the output of the code?\n",
        "\n",
        "# # A) \"bdf\" B) \"bce\" C) \"acf\" D) Error\n",
        "\n",
        "# # Answer: A) \"bdf\""
      ],
      "metadata": {
        "colab": {
          "base_uri": "https://localhost:8080/"
        },
        "id": "IMXQIadpDyBA",
        "outputId": "ee25a650-6a78-41c0-b27a-4e6abb008656"
      },
      "execution_count": 17,
      "outputs": [
        {
          "output_type": "stream",
          "name": "stdout",
          "text": [
            "bdf\n"
          ]
        }
      ]
    },
    {
      "cell_type": "code",
      "source": [
        "# Anti-LLM\n",
        "s = r\"hello\\nworld\"\n",
        "print(len(s))\n",
        "# What is the output of the code?\n",
        "\n",
        "# A) 11 B) 12 C) 13 D) Error\n",
        "\n",
        "# Answer: B) 12"
      ],
      "metadata": {
        "colab": {
          "base_uri": "https://localhost:8080/"
        },
        "id": "OrY7peHJE9v8",
        "outputId": "40d95db0-bf81-4740-f70f-b90e9e3d7e2d"
      },
      "execution_count": 18,
      "outputs": [
        {
          "output_type": "stream",
          "name": "stdout",
          "text": [
            "12\n"
          ]
        }
      ]
    },
    {
      "cell_type": "code",
      "source": [
        "# Question 1: What is the primary purpose of using Python for automation?\n",
        "\n",
        "# A) To create complex algorithms for data analysis B) To automate repetitive tasks and workflows C) To build web applications D) To create artificial intelligence models\n",
        "\n",
        "# Answer: B) To automate repetitive tasks and workflows"
      ],
      "metadata": {
        "id": "rZoPodiGFcne"
      },
      "execution_count": 19,
      "outputs": []
    },
    {
      "cell_type": "code",
      "source": [
        "# Question 2: Which of the following is a common use case for Python automation in the field of data science?\n",
        "\n",
        "# A) Building machine learning models B) Data visualization and reporting C) Automating data processing and cleaning D) Creating data visualization dashboards\n",
        "\n",
        "# Answer: C) Automating data processing and cleaning"
      ],
      "metadata": {
        "id": "nyN8B913IlXF"
      },
      "execution_count": 20,
      "outputs": []
    },
    {
      "cell_type": "code",
      "source": [
        "# #Question: You are working on a project that involves processing a large dataset of customer information. You have a list of dictionaries, where each dictionary represents a customer and contains their name, email, and phone number. You need to extract the names of all customers who have a phone number that starts with the digit \"1\". Write a Python script that uses list comprehensions, dictionary access, and string manipulation to achieve this.\n",
        "\n",
        "# #Code:\n",
        "\n",
        "# customers = [\n",
        "#     {\"name\": \"John\", \"email\": \"john@example.com\", \"phone\": \"1234567890\"},\n",
        "#     {\"name\": \"Jane\", \"email\": \"jane@example.com\", \"phone\": \"9876543210\"},\n",
        "#     {\"name\": \"Bob\", \"email\": \"bob@example.com\", \"phone\": \"1123456789\"},\n",
        "#     # ... many more customers ...\n",
        "# ]\n",
        "\n",
        "# # Your code here\n",
        "# What is the correct Python code to solve this problem?\n",
        "\n",
        "# A)\n",
        "\n",
        "# names = [customer[\"name\"] for customer in customers if customer[\"phone\"].startswith(\"1\")]\n",
        "# B)\n",
        "\n",
        "# names = [customer[\"name\"] for customer in customers if \"1\" in customer[\"phone\"]]\n",
        "# C)\n",
        "\n",
        "# names = [customer[\"name\"] for customer in customers if customer[\"phone\"][0] == \"1\"]\n",
        "# D)\n",
        "\n",
        "# names = [customer[\"name\"] for customer in customers if customer[\"phone\"].startswith(\"1\") and \"1\" in customer[\"phone\"]]\n",
        "# #Answer: A) names = [customer[\"name\"] for customer in customers if customer[\"phone\"].startswith(\"1\")]"
      ],
      "metadata": {
        "id": "o4eEzMCVIrtB"
      },
      "execution_count": 21,
      "outputs": []
    },
    {
      "cell_type": "code",
      "source": [],
      "metadata": {
        "id": "184-RL4rJU9I"
      },
      "execution_count": null,
      "outputs": []
    }
  ]
}